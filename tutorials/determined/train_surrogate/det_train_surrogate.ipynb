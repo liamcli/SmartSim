{
 "cells": [
  {
   "cell_type": "code",
   "execution_count": 1,
   "id": "6126ebe9-b037-43ec-b763-c5574b9a7509",
   "metadata": {},
   "outputs": [],
   "source": [
    "import copy\n",
    "\n",
    "from smartredis import Client\n",
    "from smartsim import Experiment\n",
    "\n",
    "import determined as det\n",
    "from determined.experimental.client import Determined\n",
    "\n",
    "default_config = {\n",
    "    \"name\": None,\n",
    "    \"workspace\": \"smartsim\",\n",
    "    \"project\": \"train_surrogate\",\n",
    "    \"entrypoint\": None,\n",
    "    \"resources\": {\n",
    "        \"slots_per_trial\": 1,\n",
    "    },\n",
    "    \"environment\": {\n",
    "        \"image\": None,\n",
    "        \"environment_variables\": None,\n",
    "        \"force_pull_image\": False\n",
    "    },\n",
    "    \"searcher\": {\n",
    "        \"name\": \"single\",\n",
    "        \"metric\": \"my_metric\",\n",
    "        \"max_length\": 1\n",
    "    }\n",
    "}\n",
    "\n",
    "def create_basic_determined_config(\n",
    "    name,\n",
    "    entrypoint,\n",
    "    n_gpus=1,\n",
    "    env_vars=None,\n",
    "    metric=\"my_metric\",\n",
    "    docker_image=\"liamdetermined/development:smartsim\"\n",
    "):\n",
    "    config = copy.deepcopy(default_config)\n",
    "    config[\"name\"] = name\n",
    "    config[\"entrypoint\"] = entrypoint\n",
    "    config[\"resources\"][\"slots_per_trial\"] = n_gpus\n",
    "    config[\"searcher\"][\"metric\"] = metric\n",
    "    config[\"environment\"][\"image\"] = docker_image\n",
    "    config[\"environment\"][\"environment_variables\"] = [f\"{k}={v}\" for k,v in env_vars.items()]\n",
    "    return config"
   ]
  },
  {
   "cell_type": "code",
   "execution_count": 2,
   "id": "5b0a6fe4-36a5-452e-b2e4-d8c357e0e36a",
   "metadata": {},
   "outputs": [
    {
     "name": "stdout",
     "output_type": "stream",
     "text": [
      "Preparing files to send to master... 816.5KB and 21 files\n",
      "Preparing files to send to master... 816.5KB and 21 files\n",
      "17:54:10 liam-worktop SmartSim[117] INFO Stopping model orchestrator_0 with job name orchestrator_0-CRJ24NK8WAEN\n"
     ]
    },
    {
     "name": "stderr",
     "output_type": "stream",
     "text": [
      "Waiting for Experiment 4 to complete. Elapsed 1.0 minutes\n"
     ]
    }
   ],
   "source": [
    "info = det.get_cluster_info()\n",
    "chief_ip = info.container_addrs[0]\n",
    "\n",
    "exp = Experiment(\"surrogate_training\", launcher=\"local\")\n",
    "db = exp.create_database(port=6780, interface=\"lo\")\n",
    "exp.start(db)\n",
    "\n",
    "# Launch simulation and training jobs\n",
    "det_client = Determined()\n",
    "steps = 100\n",
    "size =  64\n",
    "sim_config = create_basic_determined_config(\n",
    "    name=\"fd_simulation\",\n",
    "    entrypoint=f\"python fd_sim.py --steps={steps} --size={size}\",\n",
    "    env_vars={\n",
    "        \"OMP_NUM_THREADS\": \"8\",\n",
    "        \"SSKEYOUT\": \"fd_simulation\",\n",
    "        \"SSDB\": f\"{chief_ip}:6780\"\n",
    "    }\n",
    ")\n",
    "sim_exp = det_client.create_experiment(\n",
    "    config=sim_config,\n",
    "    model_dir=\"./\"\n",
    ")\n",
    "\n",
    "nn_depth = 4\n",
    "epochs = 40\n",
    "ml_config = create_basic_determined_config(\n",
    "    name=\"tf_training\",\n",
    "    entrypoint=f\"python tf_training.py --depth={nn_depth} --epochs={epochs} --size={size}\",\n",
    "    env_vars = {\n",
    "        \"OMP_NUM_THREADS\": \"16\",\n",
    "        \"SSDB\": f\"{chief_ip}:6780\",\n",
    "        \"SSKEYIN\": \"fd_simulation\"\n",
    "    }\n",
    ")\n",
    "\n",
    "ml_exp = det_client.create_experiment(\n",
    "    config=ml_config,\n",
    "    model_dir=\"./\"\n",
    ")\n",
    "ml_exp.wait()\n",
    "\n",
    "exp.stop(db)\n"
   ]
  },
  {
   "cell_type": "code",
   "execution_count": null,
   "id": "1f4ddd71-712c-4e14-8218-291d22a12a6f",
   "metadata": {},
   "outputs": [],
   "source": []
  }
 ],
 "metadata": {
  "kernelspec": {
   "display_name": "Python 3 (ipykernel)",
   "language": "python",
   "name": "python3"
  },
  "language_info": {
   "codemirror_mode": {
    "name": "ipython",
    "version": 3
   },
   "file_extension": ".py",
   "mimetype": "text/x-python",
   "name": "python",
   "nbconvert_exporter": "python",
   "pygments_lexer": "ipython3",
   "version": "3.7.13"
  }
 },
 "nbformat": 4,
 "nbformat_minor": 5
}
